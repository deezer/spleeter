{
 "cells": [
  {
   "cell_type": "markdown",
   "metadata": {
    "colab_type": "text",
    "id": "K6mcSc0mmp3i"
   },
   "source": [
    "# Install spleeter"
   ]
  },
  {
   "cell_type": "code",
   "execution_count": null,
   "metadata": {
    "colab": {
     "base_uri": "https://localhost:8080/",
     "height": 109
    },
    "colab_type": "code",
    "id": "f8Brdfh6mzEz",
    "outputId": "c63dae8e-1d33-48f2-879f-dd15393a5034"
   },
   "outputs": [],
   "source": [
    "!apt install ffmpeg"
   ]
  },
  {
   "cell_type": "code",
   "execution_count": null,
   "metadata": {
    "colab": {
     "base_uri": "https://localhost:8080/",
     "height": 1000
    },
    "colab_type": "code",
    "id": "V_6Ram1lmc1F",
    "outputId": "26a8df7b-6b6c-41e7-d874-acea0247d181"
   },
   "outputs": [],
   "source": [
    "pip install spleeter"
   ]
  },
  {
   "cell_type": "code",
   "execution_count": null,
   "metadata": {
    "colab": {},
    "colab_type": "code",
    "id": "W0LktyMypXqE"
   },
   "outputs": [],
   "source": [
    "from IPython.display import Audio"
   ]
  },
  {
   "cell_type": "markdown",
   "metadata": {
    "colab_type": "text",
    "id": "afbcUSken16L"
   },
   "source": [
    "# Separate from command line"
   ]
  },
  {
   "cell_type": "code",
   "execution_count": null,
   "metadata": {
    "colab": {
     "base_uri": "https://localhost:8080/",
     "height": 311
    },
    "colab_type": "code",
    "id": "O1kQaoJSoAD0",
    "outputId": "cd1868b4-6992-47c3-8a2b-920e6f288614"
   },
   "outputs": [],
   "source": [
    "!wget https://github.com/deezer/spleeter/raw/master/audio_example.mp3"
   ]
  },
  {
   "cell_type": "code",
   "execution_count": null,
   "metadata": {
    "colab": {
     "base_uri": "https://localhost:8080/",
     "height": 60
    },
    "colab_type": "code",
    "id": "ibG6uF55p4lH",
    "outputId": "f2785922-0ee1-4769-807a-6ee69313993c"
   },
   "outputs": [],
   "source": [
    "Audio('audio_example.mp3')"
   ]
  },
  {
   "cell_type": "code",
   "execution_count": null,
   "metadata": {
    "colab": {
     "base_uri": "https://localhost:8080/",
     "height": 660
    },
    "colab_type": "code",
    "id": "kOAqBcPhn6IU",
    "outputId": "23e14ad5-209d-4ed6-b909-7c0cd966bd0c"
   },
   "outputs": [],
   "source": [
    "!spleeter separate"
   ]
  },
  {
   "cell_type": "code",
   "execution_count": null,
   "metadata": {
    "colab": {
     "base_uri": "https://localhost:8080/",
     "height": 533
    },
    "colab_type": "code",
    "id": "dGL-k5xxoKbu",
    "outputId": "dd8d6a7f-515c-47f0-8388-39e179ef652a"
   },
   "outputs": [],
   "source": [
    "!spleeter separate -o output/ audio_example.mp3"
   ]
  },
  {
   "cell_type": "code",
   "execution_count": null,
   "metadata": {
    "colab": {
     "base_uri": "https://localhost:8080/",
     "height": 63
    },
    "colab_type": "code",
    "id": "IDuPWcAMoZP_",
    "outputId": "3f9a05fd-afab-41c7-d47c-433fc614283b"
   },
   "outputs": [],
   "source": [
    "!ls output/audio_example"
   ]
  },
  {
   "cell_type": "code",
   "execution_count": null,
   "metadata": {
    "colab": {
     "base_uri": "https://localhost:8080/",
     "height": 60
    },
    "colab_type": "code",
    "id": "e7CHpyiloxrk",
    "outputId": "d1ff17ac-8cef-4b9d-913a-01c2688ffef1"
   },
   "outputs": [],
   "source": [
    "Audio('output/audio_example/vocals.wav')"
   ]
  },
  {
   "cell_type": "code",
   "execution_count": null,
   "metadata": {
    "colab": {
     "base_uri": "https://localhost:8080/",
     "height": 60
    },
    "colab_type": "code",
    "id": "ibXd-WCTpT0w",
    "outputId": "6716708d-1cdb-4be5-da22-593075de78ca"
   },
   "outputs": [],
   "source": [
    "Audio('output/audio_example/accompaniment.wav')"
   ]
  }
 ],
 "metadata": {
  "colab": {
   "name": "spleeter.ipynb",
   "provenance": []
  },
  "kernelspec": {
   "display_name": "Python 3",
   "name": "python3"
  }
 },
 "nbformat": 4,
 "nbformat_minor": 0
}
